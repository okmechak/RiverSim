{
 "cells": [
  {
   "cell_type": "markdown",
   "metadata": {},
   "source": [
    "# RiverSIM"
   ]
  },
  {
   "cell_type": "markdown",
   "metadata": {},
   "source": [
    "## Import"
   ]
  },
  {
   "cell_type": "code",
   "execution_count": 5,
   "metadata": {},
   "outputs": [],
   "source": [
    "import riversim"
   ]
  },
  {
   "cell_type": "markdown",
   "metadata": {},
   "source": [
    "## Geometry primitives"
   ]
  },
  {
   "cell_type": "markdown",
   "metadata": {},
   "source": [
    "### Polar"
   ]
  },
  {
   "cell_type": "code",
   "execution_count": 6,
   "metadata": {},
   "outputs": [],
   "source": [
    "polar1 = riversim.Polar(1, 1)"
   ]
  },
  {
   "cell_type": "code",
   "execution_count": 7,
   "metadata": {},
   "outputs": [],
   "source": [
    "polar2 = riversim.Polar()"
   ]
  },
  {
   "cell_type": "code",
   "execution_count": 8,
   "metadata": {},
   "outputs": [
    {
     "output_type": "execute_result",
     "data": {
      "text/plain": "True"
     },
     "metadata": {},
     "execution_count": 8
    }
   ],
   "source": [
    "polar1 == polar1"
   ]
  },
  {
   "cell_type": "code",
   "execution_count": 9,
   "metadata": {},
   "outputs": [
    {
     "output_type": "execute_result",
     "data": {
      "text/plain": "False"
     },
     "metadata": {},
     "execution_count": 9
    }
   ],
   "source": [
    "polar1 != polar1"
   ]
  },
  {
   "cell_type": "code",
   "execution_count": 32,
   "metadata": {},
   "outputs": [],
   "source": [
    "polar1.phi = 2\n",
    "polar1.r = 20"
   ]
  },
  {
   "cell_type": "code",
   "execution_count": 11,
   "metadata": {},
   "outputs": [
    {
     "output_type": "execute_result",
     "data": {
      "text/plain": "2.0"
     },
     "metadata": {},
     "execution_count": 11
    }
   ],
   "source": [
    "polar1.phi"
   ]
  },
  {
   "cell_type": "code",
   "execution_count": 12,
   "metadata": {},
   "outputs": [
    {
     "output_type": "execute_result",
     "data": {
      "text/plain": "20.0"
     },
     "metadata": {},
     "execution_count": 12
    }
   ],
   "source": [
    "polar1.r"
   ]
  },
  {
   "cell_type": "markdown",
   "metadata": {},
   "source": [
    "### Point"
   ]
  },
  {
   "cell_type": "code",
   "execution_count": 33,
   "metadata": {
    "tags": []
   },
   "outputs": [
    {
     "output_type": "stream",
     "name": "stdout",
     "text": "1.0\n1.0\n1.4142135623730951\n45.001327204055606\n"
    }
   ],
   "source": [
    "p = riversim.Point(1, 1)\n",
    "print(p.x)\n",
    "print(p.y)\n",
    "\n",
    "print(p.norm())\n",
    "\n",
    "print(p.angle()/3.1415*180)"
   ]
  },
  {
   "cell_type": "code",
   "execution_count": 34,
   "metadata": {},
   "outputs": [],
   "source": [
    "point0 = riversim.Point()\n",
    "point0.x = 0\n",
    "point0.y = 0"
   ]
  },
  {
   "cell_type": "code",
   "execution_count": 35,
   "metadata": {},
   "outputs": [
    {
     "output_type": "execute_result",
     "data": {
      "text/plain": "0.0"
     },
     "metadata": {},
     "execution_count": 35
    }
   ],
   "source": [
    "point0.norm()"
   ]
  },
  {
   "cell_type": "code",
   "execution_count": 36,
   "metadata": {},
   "outputs": [],
   "source": [
    "point1 = riversim.Point(1, 1)\n",
    "polar3 = riversim.ToPolar(point1)\n",
    "point2 = riversim.Point(point1)\n",
    "point3 = riversim.Point(polar1)"
   ]
  },
  {
   "cell_type": "code",
   "execution_count": 37,
   "metadata": {},
   "outputs": [
    {
     "output_type": "execute_result",
     "data": {
      "text/plain": "-1.4901161193847656e-08"
     },
     "metadata": {},
     "execution_count": 37
    }
   ],
   "source": [
    "point1.angle(point1)"
   ]
  },
  {
   "cell_type": "code",
   "execution_count": 38,
   "metadata": {},
   "outputs": [
    {
     "output_type": "execute_result",
     "data": {
      "text/plain": "2.0"
     },
     "metadata": {},
     "execution_count": 38
    }
   ],
   "source": [
    "(point1 + point1).x"
   ]
  },
  {
   "cell_type": "code",
   "execution_count": 39,
   "metadata": {},
   "outputs": [],
   "source": [
    "point1 - point1\n",
    "point1 * point1\n",
    "point1 * 10\n",
    "point1 -= point1\n",
    "point1 += point1\n",
    "point1 *= 10"
   ]
  },
  {
   "cell_type": "markdown",
   "metadata": {},
   "source": [
    "## Boundary"
   ]
  },
  {
   "cell_type": "markdown",
   "metadata": {},
   "source": [
    "### t_boundary"
   ]
  },
  {
   "cell_type": "code",
   "execution_count": 40,
   "metadata": {
    "tags": []
   },
   "outputs": [
    {
     "output_type": "stream",
     "name": "stdout",
     "text": "DIRICHLET\nNEUMAN\n"
    }
   ],
   "source": [
    "bound_test = riversim.t_boundary()\n",
    "print(bound_test.DIRICHLET)\n",
    "print(bound_test.NEUMAN)"
   ]
  },
  {
   "cell_type": "code",
   "execution_count": 41,
   "metadata": {
    "tags": []
   },
   "outputs": [
    {
     "output_type": "stream",
     "name": "stdout",
     "text": "DIRICHLET\n"
    }
   ],
   "source": [
    "print(riversim.t_boundary.DIRICHLET)"
   ]
  },
  {
   "cell_type": "code",
   "execution_count": 42,
   "metadata": {},
   "outputs": [
    {
     "output_type": "execute_result",
     "data": {
      "text/plain": "True"
     },
     "metadata": {},
     "execution_count": 42
    }
   ],
   "source": [
    "riversim.t_boundary.DIRICHLET == bound_test.DIRICHLET"
   ]
  },
  {
   "cell_type": "markdown",
   "metadata": {},
   "source": [
    "### BoundaryCondition"
   ]
  },
  {
   "cell_type": "code",
   "execution_count": 43,
   "metadata": {},
   "outputs": [],
   "source": [
    "bc_test = riversim.BoundaryCondition()\n",
    "bc_test.value = 100\n",
    "bc_test.type = riversim.t_boundary.NEUMAN"
   ]
  },
  {
   "cell_type": "markdown",
   "metadata": {},
   "source": [
    "### t_BoundaryConditions"
   ]
  },
  {
   "cell_type": "code",
   "execution_count": 44,
   "metadata": {},
   "outputs": [],
   "source": [
    "t_bcs = riversim.t_BoundaryConditions()"
   ]
  },
  {
   "cell_type": "code",
   "execution_count": 45,
   "metadata": {},
   "outputs": [],
   "source": [
    "bc_1 = riversim.BoundaryCondition()\n",
    "bc_1.value = 9.9\n",
    "bc_1.type = riversim.t_boundary.NEUMAN\n",
    "\n",
    "bc_2 = riversim.BoundaryCondition()\n",
    "bc_2.value = 13.8\n",
    "bc_2.type = riversim.t_boundary.DIRICHLET\n",
    "\n",
    "t_bcs[1] = bc_1\n",
    "t_bcs[2] = bc_2"
   ]
  },
  {
   "cell_type": "code",
   "execution_count": 46,
   "metadata": {
    "tags": []
   },
   "outputs": [
    {
     "output_type": "stream",
     "name": "stdout",
     "text": "9.9\nNEUMAN\n"
    }
   ],
   "source": [
    "print(t_bcs[1].value)\n",
    "print(t_bcs[1].type)"
   ]
  },
  {
   "cell_type": "code",
   "execution_count": 47,
   "metadata": {
    "tags": []
   },
   "outputs": [
    {
     "output_type": "stream",
     "name": "stdout",
     "text": "13.8\nDIRICHLET\n"
    }
   ],
   "source": [
    "print(t_bcs[2].value)\n",
    "print(t_bcs[2].type)"
   ]
  },
  {
   "cell_type": "code",
   "execution_count": 48,
   "metadata": {
    "tags": []
   },
   "outputs": [
    {
     "output_type": "stream",
     "name": "stdout",
     "text": "3.0\nNEUMAN\n"
    }
   ],
   "source": [
    "t_bcs[1].value = 3\n",
    "print(t_bcs[1].value)\n",
    "print(t_bcs[1].type)"
   ]
  },
  {
   "cell_type": "markdown",
   "metadata": {},
   "source": [
    "#### This looks like working example\n",
    "\n",
    "getter and setter"
   ]
  },
  {
   "cell_type": "code",
   "execution_count": 49,
   "metadata": {
    "tags": []
   },
   "outputs": [
    {
     "output_type": "stream",
     "name": "stdout",
     "text": "123.0\nDIRICHLET\n45.0\nNEUMAN\n"
    }
   ],
   "source": [
    "a = t_bcs[1]\n",
    "b = t_bcs[2]\n",
    "a.value = 123\n",
    "a.type = riversim.t_boundary.DIRICHLET\n",
    "b.value = 45\n",
    "b.type = riversim.t_boundary.NEUMAN\n",
    "t_bcs[1] = a\n",
    "t_bcs[2] = b\n",
    "print(t_bcs[1].value)\n",
    "print(t_bcs[1].type)\n",
    "print(t_bcs[2].value)\n",
    "print(t_bcs[2].type)"
   ]
  },
  {
   "cell_type": "markdown",
   "metadata": {},
   "source": [
    "without proxy"
   ]
  },
  {
   "cell_type": "code",
   "execution_count": 50,
   "metadata": {
    "tags": []
   },
   "outputs": [
    {
     "output_type": "stream",
     "name": "stdout",
     "text": "124.0\nDIRICHLET\n44.0\nNEUMAN\n"
    }
   ],
   "source": [
    "t_bcs[1].value = 124\n",
    "t_bcs[1].type = riversim.t_boundary.DIRICHLET\n",
    "t_bcs[2].value = 44\n",
    "t_bcs[2].type = riversim.t_boundary.NEUMAN\n",
    "print(t_bcs[1].value)\n",
    "print(t_bcs[1].type)\n",
    "print(t_bcs[2].value)\n",
    "print(t_bcs[2].type)"
   ]
  },
  {
   "cell_type": "markdown",
   "metadata": {},
   "source": [
    "deletion"
   ]
  },
  {
   "cell_type": "code",
   "execution_count": 51,
   "metadata": {},
   "outputs": [
    {
     "output_type": "error",
     "ename": "KeyError",
     "evalue": "'Invalid key'",
     "traceback": [
      "\u001b[0;31m---------------------------------------------------------------------------\u001b[0m",
      "\u001b[0;31mKeyError\u001b[0m                                  Traceback (most recent call last)",
      "\u001b[0;32m<ipython-input-51-3e0ad0c07ab5>\u001b[0m in \u001b[0;36m<module>\u001b[0;34m\u001b[0m\n\u001b[1;32m      1\u001b[0m \u001b[0;32mdel\u001b[0m \u001b[0mt_bcs\u001b[0m\u001b[0;34m[\u001b[0m\u001b[0;36m1\u001b[0m\u001b[0;34m]\u001b[0m\u001b[0;34m\u001b[0m\u001b[0;34m\u001b[0m\u001b[0m\n\u001b[0;32m----> 2\u001b[0;31m \u001b[0mt_bcs\u001b[0m\u001b[0;34m[\u001b[0m\u001b[0;36m1\u001b[0m\u001b[0;34m]\u001b[0m\u001b[0;34m\u001b[0m\u001b[0;34m\u001b[0m\u001b[0m\n\u001b[0m",
      "\u001b[0;31mKeyError\u001b[0m: 'Invalid key'"
     ]
    }
   ],
   "source": [
    "del t_bcs[1]\n",
    "t_bcs[1]"
   ]
  },
  {
   "cell_type": "markdown",
   "metadata": {},
   "source": [
    "count"
   ]
  },
  {
   "cell_type": "code",
   "execution_count": 52,
   "metadata": {
    "tags": []
   },
   "outputs": [
    {
     "output_type": "stream",
     "name": "stdout",
     "text": "True\nFalse\n"
    }
   ],
   "source": [
    "print(2 in t_bcs)\n",
    "print(1 in t_bcs)"
   ]
  },
  {
   "cell_type": "markdown",
   "metadata": {},
   "source": [
    "### BoundaryConditions"
   ]
  },
  {
   "cell_type": "code",
   "execution_count": 53,
   "metadata": {},
   "outputs": [],
   "source": [
    "bcs = riversim.BoundaryConditions()"
   ]
  },
  {
   "cell_type": "markdown",
   "metadata": {},
   "source": [
    "#### lets check map methods, cos BoundaryConditions is child of t_BoundaryConditions"
   ]
  },
  {
   "cell_type": "markdown",
   "metadata": {},
   "source": [
    "##### getter and setter"
   ]
  },
  {
   "cell_type": "code",
   "execution_count": 54,
   "metadata": {
    "tags": []
   },
   "outputs": [
    {
     "output_type": "stream",
     "name": "stdout",
     "text": "2000.0\n1200.0\n<riversim.BoundaryCondition object at 0x7f933c5195d0>\n2\nTrue\nTrue\nFalse\nFalse\n"
    },
    {
     "output_type": "error",
     "ename": "KeyError",
     "evalue": "'Invalid key'",
     "traceback": [
      "\u001b[0;31m---------------------------------------------------------------------------\u001b[0m",
      "\u001b[0;31mKeyError\u001b[0m                                  Traceback (most recent call last)",
      "\u001b[0;32m<ipython-input-54-89bad76c7499>\u001b[0m in \u001b[0;36m<module>\u001b[0;34m\u001b[0m\n\u001b[1;32m     34\u001b[0m \u001b[0;32mdel\u001b[0m \u001b[0mbcs\u001b[0m\u001b[0;34m[\u001b[0m\u001b[0;36m1\u001b[0m\u001b[0;34m]\u001b[0m\u001b[0;34m\u001b[0m\u001b[0;34m\u001b[0m\u001b[0m\n\u001b[1;32m     35\u001b[0m \u001b[0mprint\u001b[0m\u001b[0;34m(\u001b[0m\u001b[0;36m1\u001b[0m \u001b[0;32min\u001b[0m \u001b[0mbcs\u001b[0m\u001b[0;34m)\u001b[0m\u001b[0;34m\u001b[0m\u001b[0;34m\u001b[0m\u001b[0m\n\u001b[0;32m---> 36\u001b[0;31m \u001b[0mbcs\u001b[0m\u001b[0;34m[\u001b[0m\u001b[0;36m1\u001b[0m\u001b[0;34m]\u001b[0m\u001b[0;34m\u001b[0m\u001b[0;34m\u001b[0m\u001b[0m\n\u001b[0m",
      "\u001b[0;31mKeyError\u001b[0m: 'Invalid key'"
     ]
    }
   ],
   "source": [
    "bc_1 = riversim.BoundaryCondition()\n",
    "bc_1.value = 1000\n",
    "bc_1.type = riversim.t_boundary.DIRICHLET\n",
    "\n",
    "bc_2 = riversim.BoundaryCondition()\n",
    "bc_2.value = 300\n",
    "bc_2.type = riversim.t_boundary.NEUMAN\n",
    "\n",
    "bcs[1] = bc_1\n",
    "bcs[2] = bc_2\n",
    "\n",
    "a = bcs[1]\n",
    "b = bcs[2]\n",
    "\n",
    "a.value = 2*a.value\n",
    "b.value = 4*b.value\n",
    "\n",
    "bcs[1] = a\n",
    "bcs[2] = b\n",
    "\n",
    "print(bcs[1].value)\n",
    "print(bcs[2].value)\n",
    "\n",
    "\n",
    "\n",
    "print(bcs[1])\n",
    "\n",
    "print(len(bcs))\n",
    "\n",
    "print(1 in bcs)\n",
    "print(2 in bcs)\n",
    "print(3 in bcs)\n",
    "\n",
    "del bcs[1]\n",
    "print(1 in bcs)\n",
    "bcs[1]"
   ]
  },
  {
   "cell_type": "markdown",
   "metadata": {},
   "source": [
    "#### Get method"
   ]
  },
  {
   "cell_type": "code",
   "execution_count": 55,
   "metadata": {},
   "outputs": [],
   "source": [
    "bcs = riversim.BoundaryConditions()\n",
    "\n",
    "bc_1 = riversim.BoundaryCondition()\n",
    "bc_1.value = 1;\n",
    "bc_1.type = riversim.t_boundary.NEUMAN\n",
    "\n",
    "bc_2 = riversim.BoundaryCondition()\n",
    "bc_2.value = 2;\n",
    "bc_2.type = riversim.t_boundary.DIRICHLET\n",
    "\n",
    "bc_3 = riversim.BoundaryCondition()\n",
    "bc_3.value = 3;\n",
    "bc_3.type = riversim.t_boundary.NEUMAN\n",
    "\n",
    "bc_4 = riversim.BoundaryCondition()\n",
    "bc_4.value = 4;\n",
    "bc_4.type = riversim.t_boundary.DIRICHLET\n",
    "\n",
    "bcs[1] = bc_1\n",
    "bcs[2] = bc_2\n",
    "bcs[3] = bc_3\n",
    "bcs[4] = bc_4"
   ]
  },
  {
   "cell_type": "code",
   "execution_count": 56,
   "metadata": {},
   "outputs": [],
   "source": [
    "bcs_neuman = bcs.Get(riversim.t_boundary.NEUMAN)"
   ]
  },
  {
   "cell_type": "code",
   "execution_count": 57,
   "metadata": {
    "tags": []
   },
   "outputs": [
    {
     "output_type": "stream",
     "name": "stdout",
     "text": "NEUMAN\nNEUMAN\n2\n"
    }
   ],
   "source": [
    "print(bcs_neuman[1].type)\n",
    "print(bcs_neuman[3].type)\n",
    "print(len(bcs_neuman))"
   ]
  },
  {
   "cell_type": "markdown",
   "metadata": {},
   "source": [
    "### `t_source_coord` or porting `Pair`"
   ]
  },
  {
   "cell_type": "code",
   "execution_count": 58,
   "metadata": {},
   "outputs": [],
   "source": [
    "source_coord = riversim.t_source_coord()"
   ]
  },
  {
   "cell_type": "code",
   "execution_count": 59,
   "metadata": {},
   "outputs": [],
   "source": [
    "source_coord.boundary_id = 1"
   ]
  },
  {
   "cell_type": "code",
   "execution_count": 60,
   "metadata": {},
   "outputs": [],
   "source": [
    "source_coord.vert_pos = 2"
   ]
  },
  {
   "cell_type": "code",
   "execution_count": 61,
   "metadata": {
    "tags": []
   },
   "outputs": [
    {
     "output_type": "stream",
     "name": "stdout",
     "text": "1\n2\n"
    }
   ],
   "source": [
    "print(source_coord.boundary_id)\n",
    "print(source_coord.vert_pos)"
   ]
  },
  {
   "cell_type": "markdown",
   "metadata": {},
   "source": [
    "### `t_sources_ids` or `vector` wrapper"
   ]
  },
  {
   "cell_type": "code",
   "execution_count": 62,
   "metadata": {},
   "outputs": [],
   "source": [
    "sources_ids = riversim.t_sources_ids()"
   ]
  },
  {
   "cell_type": "code",
   "execution_count": 63,
   "metadata": {},
   "outputs": [],
   "source": [
    "sources_ids.append(1)\n",
    "sources_ids.append(2)\n",
    "sources_ids.append(3)"
   ]
  },
  {
   "cell_type": "code",
   "execution_count": 64,
   "metadata": {
    "tags": []
   },
   "outputs": [
    {
     "output_type": "stream",
     "name": "stdout",
     "text": "1\n2\n3\n3\n2\n"
    }
   ],
   "source": [
    "print(sources_ids[0])\n",
    "print(sources_ids[1])\n",
    "print(sources_ids[2])\n",
    "print(sources_ids[-1])\n",
    "print(sources_ids[-2])"
   ]
  },
  {
   "cell_type": "code",
   "execution_count": 65,
   "metadata": {},
   "outputs": [
    {
     "output_type": "execute_result",
     "data": {
      "text/plain": "3"
     },
     "metadata": {},
     "execution_count": 65
    }
   ],
   "source": [
    "len(sources_ids)"
   ]
  },
  {
   "cell_type": "code",
   "execution_count": 66,
   "metadata": {},
   "outputs": [],
   "source": [
    "del sources_ids[1]"
   ]
  },
  {
   "cell_type": "code",
   "execution_count": 67,
   "metadata": {},
   "outputs": [
    {
     "output_type": "execute_result",
     "data": {
      "text/plain": "2"
     },
     "metadata": {},
     "execution_count": 67
    }
   ],
   "source": [
    "len(sources_ids)"
   ]
  },
  {
   "cell_type": "markdown",
   "metadata": {},
   "source": [
    "### `t_Sources`"
   ]
  },
  {
   "cell_type": "code",
   "execution_count": 68,
   "metadata": {},
   "outputs": [],
   "source": [
    "sources = riversim.t_Sources()"
   ]
  },
  {
   "cell_type": "code",
   "execution_count": 69,
   "metadata": {},
   "outputs": [
    {
     "output_type": "execute_result",
     "data": {
      "text/plain": "0"
     },
     "metadata": {},
     "execution_count": 69
    }
   ],
   "source": [
    "len(sources)"
   ]
  },
  {
   "cell_type": "code",
   "execution_count": 70,
   "metadata": {},
   "outputs": [],
   "source": [
    "source_coord_1 = riversim.t_source_coord()\n",
    "source_coord_1.boundary_id = 1\n",
    "source_coord_1.vert_pos = 3\n",
    "\n",
    "source_coord_2 = riversim.t_source_coord()\n",
    "source_coord_2.boundary_id = 1\n",
    "source_coord_2.vert_pos = 4\n",
    "\n",
    "source_coord_3 = riversim.t_source_coord()\n",
    "source_coord_3.boundary_id = 2\n",
    "source_coord_3.vert_pos = 2\n",
    "\n",
    "sources[1] = source_coord_1\n",
    "sources[2] = source_coord_2\n",
    "sources[3] = source_coord_3"
   ]
  },
  {
   "cell_type": "code",
   "execution_count": 71,
   "metadata": {},
   "outputs": [
    {
     "output_type": "execute_result",
     "data": {
      "text/plain": "3"
     },
     "metadata": {},
     "execution_count": 71
    }
   ],
   "source": [
    "len(sources)"
   ]
  },
  {
   "cell_type": "code",
   "execution_count": 72,
   "metadata": {},
   "outputs": [
    {
     "output_type": "execute_result",
     "data": {
      "text/plain": "True"
     },
     "metadata": {},
     "execution_count": 72
    }
   ],
   "source": [
    "1 in sources"
   ]
  },
  {
   "cell_type": "markdown",
   "metadata": {},
   "source": [
    "### `Sources`"
   ]
  },
  {
   "cell_type": "code",
   "execution_count": 73,
   "metadata": {},
   "outputs": [],
   "source": [
    "source_coord_1 = riversim.t_source_coord()\n",
    "source_coord_1.boundary_id = 1\n",
    "source_coord_1.vert_pos = 3\n",
    "\n",
    "source_coord_2 = riversim.t_source_coord()\n",
    "source_coord_2.boundary_id = 1\n",
    "source_coord_2.vert_pos = 4\n",
    "\n",
    "source_coord_3 = riversim.t_source_coord()\n",
    "source_coord_3.boundary_id = 2\n",
    "source_coord_3.vert_pos = 2\n",
    "\n",
    "sources = riversim.Sources()\n",
    "sources[1] = source_coord_1\n",
    "sources[2] = source_coord_2\n",
    "sources[3] = source_coord_3"
   ]
  },
  {
   "cell_type": "code",
   "execution_count": 74,
   "metadata": {},
   "outputs": [],
   "source": [
    "sources_ids = sources.getSourcesIds()"
   ]
  },
  {
   "cell_type": "code",
   "execution_count": 75,
   "metadata": {},
   "outputs": [
    {
     "output_type": "execute_result",
     "data": {
      "text/plain": "3"
     },
     "metadata": {},
     "execution_count": 75
    }
   ],
   "source": [
    "sources_ids[2]"
   ]
  },
  {
   "cell_type": "markdown",
   "metadata": {},
   "source": [
    "### `Line`"
   ]
  },
  {
   "cell_type": "code",
   "execution_count": 76,
   "metadata": {
    "tags": []
   },
   "outputs": [
    {
     "output_type": "stream",
     "name": "stdout",
     "text": "True\n10\n1\n2\n3\n"
    }
   ],
   "source": [
    "line1 = riversim.Line()\n",
    "\n",
    "line1.p1 = 1\n",
    "line1.p2 = 2\n",
    "line1.boundary_id = 10\n",
    "\n",
    "line2 = riversim.Line(line1)\n",
    "\n",
    "print(line1 == line2)\n",
    "print(line2.boundary_id)\n",
    "\n",
    "line3 = riversim.Line(1, 2, 3)\n",
    "print(line3.p1)\n",
    "print(line3.p2)\n",
    "print(line3.boundary_id)"
   ]
  },
  {
   "cell_type": "markdown",
   "metadata": {},
   "source": [
    "### `t_PointList`"
   ]
  },
  {
   "cell_type": "code",
   "execution_count": 77,
   "metadata": {
    "tags": []
   },
   "outputs": [
    {
     "output_type": "stream",
     "name": "stdout",
     "text": "3\n"
    }
   ],
   "source": [
    "point_list = riversim.t_PointList()\n",
    "point_list.append(riversim.Point(1, 1))\n",
    "point_list.append(riversim.Point(2, 2))\n",
    "point_list.append(riversim.Point(3, 3))\n",
    "\n",
    "print(len(point_list))"
   ]
  },
  {
   "cell_type": "markdown",
   "metadata": {},
   "source": [
    "### `t_LineList`"
   ]
  },
  {
   "cell_type": "code",
   "execution_count": 78,
   "metadata": {
    "tags": []
   },
   "outputs": [
    {
     "output_type": "stream",
     "name": "stdout",
     "text": "3\n"
    }
   ],
   "source": [
    "line_list = riversim.t_LineList()\n",
    "line_list.append(riversim.Line(1, 1, 1))\n",
    "line_list.append(riversim.Line(2, 2, 2))\n",
    "line_list.append(riversim.Line(3, 3, 3))\n",
    "\n",
    "print(len(line_list))"
   ]
  },
  {
   "cell_type": "markdown",
   "metadata": {},
   "source": [
    "### `SimpleBoundary`"
   ]
  },
  {
   "cell_type": "code",
   "execution_count": 82,
   "metadata": {},
   "outputs": [],
   "source": [
    "point_list = riversim.t_PointList()\n",
    "point_list.append(riversim.Point(0, 0))\n",
    "point_list.append(riversim.Point(0.25, 0))\n",
    "point_list.append(riversim.Point(1, 0))\n",
    "point_list.append(riversim.Point(1, 1))\n",
    "point_list.append(riversim.Point(0, 1))\n",
    "\n",
    "line_list = riversim.t_LineList()\n",
    "line_list.append(riversim.Line(1, 2, 1))\n",
    "line_list.append(riversim.Line(2, 3, 1))\n",
    "line_list.append(riversim.Line(3, 4, 1))\n",
    "line_list.append(riversim.Line(4, 5, 1))\n",
    "line_list.append(riversim.Line(5, 1, 1))\n",
    "\n",
    "holes_list = riversim.t_PointList()\n",
    "\n",
    "simple_boundary = riversim.SimpleBoundary()\n",
    "simple_boundary.vertices = point_list\n",
    "simple_boundary.lines = line_list\n",
    "simple_boundary.holes = holes_list\n",
    "\n",
    "simple_boundary.name = \"sdfsdf\"\n",
    "\n",
    "simple_boundary.inner_boundary = False\n",
    "\n",
    "point_in_list = riversim.t_PointList()\n",
    "point_in_list.append(riversim.Point(0.2, 0))\n",
    "point_in_list.append(riversim.Point(0.25, 0.1))\n",
    "point_in_list.append(riversim.Point(0.3, 0))\n",
    "\n",
    "line_in_list = riversim.t_LineList()\n",
    "line_in_list.append(riversim.Line(1, 2, 1))\n",
    "line_list.append(riversim.Line(2, 3, 1))\n",
    "\n",
    "in_boundary = riversim.SimpleBoundary()\n",
    "in_boundary.vertices = point_in_list\n",
    "in_boundary.lines = line_in_list\n",
    "\n",
    "in_boundary.name = \"insertion\"\n",
    "in_boundary.inner_boundary = False\n",
    "\n",
    "simple_boundary.replaceElement(1, in_boundary)\n",
    "\n",
    "#this will produce some strange boundary, but juss let test append function\n",
    "simple_boundary.append(in_boundary)"
   ]
  },
  {
   "cell_type": "markdown",
   "metadata": {},
   "source": [
    "### `t_Boundaries`"
   ]
  },
  {
   "cell_type": "code",
   "execution_count": 83,
   "metadata": {},
   "outputs": [],
   "source": [
    "boundaries = riversim.t_Boundaries()\n",
    "\n",
    "boundaries[1] = simple_boundary\n",
    "boundaries[2] = in_boundary"
   ]
  },
  {
   "cell_type": "markdown",
   "metadata": {},
   "source": [
    "### `t_branch_source`"
   ]
  },
  {
   "cell_type": "code",
   "execution_count": 84,
   "metadata": {},
   "outputs": [],
   "source": [
    "branch_source = riversim.t_branch_source()\n",
    "\n",
    "branch_source.point = riversim.Point(0, 0)\n",
    "branch_source.angle = 0.01"
   ]
  },
  {
   "cell_type": "markdown",
   "metadata": {},
   "source": [
    "### `Boundaries`"
   ]
  },
  {
   "cell_type": "code",
   "execution_count": 109,
   "metadata": {
    "tags": []
   },
   "outputs": [
    {
     "output_type": "stream",
     "name": "stdout",
     "text": "3\n1\n1\n0.25\n0.5\n1.5707963267948966\n0.7853981633974483\n3.9269908169872414\n"
    }
   ],
   "source": [
    "boundaries = riversim.Boundaries()\n",
    "\n",
    "sources = boundaries.makeRectangularWithHole(1, 1, 0.25)\n",
    "print(len(sources))\n",
    "print(sources[1].left)\n",
    "print(sources[1].right)\n",
    "boundaries.check()\n",
    "print(boundaries.getOuterBoundary().vertices[1].x)\n",
    "print(boundaries.getHolesList()[0].x)\n",
    "tree_int = boundaries.getSourcesIdsPointsAndAngles(sources)\n",
    "print(tree_int[1].angle)\n",
    "print(tree_int[2].angle)\n",
    "print(tree_int[3].angle)"
   ]
  },
  {
   "cell_type": "code",
   "execution_count": 111,
   "metadata": {
    "tags": []
   },
   "outputs": [
    {
     "output_type": "stream",
     "name": "stdout",
     "text": "3\n3\n"
    }
   ],
   "source": [
    "a = sources[3]\n",
    "print(a.right)\n",
    "print(a.left)"
   ]
  },
  {
   "cell_type": "markdown",
   "metadata": {},
   "source": [
    "## Tree"
   ]
  },
  {
   "cell_type": "markdown",
   "metadata": {},
   "source": [
    "### Branch"
   ]
  },
  {
   "cell_type": "code",
   "execution_count": 114,
   "metadata": {
    "tags": []
   },
   "outputs": [
    {
     "output_type": "stream",
     "name": "stdout",
     "text": "1.7853981633974483\n0.0\n5.414213562373095\nFalse\n"
    }
   ],
   "source": [
    "branch = riversim.Branch(riversim.Point(0, 0), 0)\n",
    "branch1 = riversim.Branch(riversim.Point(0, 0), 0)\n",
    "branch[0]\n",
    "len(branch)\n",
    "branch.addAbsolutePoint(riversim.Point(1, 1))\n",
    "branch.addAbsolutePoint(riversim.Polar(1, 1))[0].y = 1\n",
    "branch.addAbsolutePoint(riversim.Polar(1, 1))[0].y\n",
    "branch.addPoint(riversim.Point(1, 1))\n",
    "branch.addPoint(riversim.Polar(1, 1))\n",
    "branch.tipPoint()\n",
    "branch.tipVector()\n",
    "angle = branch.tipAngle()\n",
    "print(angle)\n",
    "angle = branch.sourceAngle()\n",
    "print(angle)\n",
    "print(branch.lenght())\n",
    "branch.removeTipPoint()\n",
    "branch.shrink(100)\n",
    "len(branch)\n",
    "print(branch == branch1)"
   ]
  },
  {
   "cell_type": "code",
   "execution_count": 115,
   "metadata": {},
   "outputs": [
    {
     "output_type": "execute_result",
     "data": {
      "text/plain": "3"
     },
     "metadata": {},
     "execution_count": 115
    }
   ],
   "source": [
    "boundaries = riversim.Boundaries()\n",
    "\n",
    "sources = boundaries.makeRectangularWithHole(1, 1, 0.25)\n",
    "\n",
    "tree_interface = boundaries.getSourcesIdsPointsAndAngles(sources)\n",
    "\n",
    "tree = riversim.Tree()\n",
    "tree.initialize(tree_interface)\n",
    "\n",
    "ids = tree.tipBranchesIds()\n",
    "len(ids)"
   ]
  },
  {
   "cell_type": "markdown",
   "metadata": {},
   "source": [
    "## Physmodel"
   ]
  },
  {
   "cell_type": "markdown",
   "metadata": {},
   "source": [
    "### `t_SeriesParameters`"
   ]
  },
  {
   "cell_type": "code",
   "execution_count": 116,
   "metadata": {},
   "outputs": [
    {
     "output_type": "execute_result",
     "data": {
      "text/plain": "2.0"
     },
     "metadata": {},
     "execution_count": 116
    }
   ],
   "source": [
    "series_params = riversim.t_SeriesParameters()\n",
    "v2_double = riversim.t_v2_double()\n",
    "v_double = riversim.t_v_double()\n",
    "v_double[:] = [1., 2., 3.]\n",
    "v2_double.append(v_double)\n",
    "series_params[1] = v2_double\n",
    "\n",
    "series_params[1][0][1]"
   ]
  },
  {
   "cell_type": "markdown",
   "metadata": {},
   "source": [
    "### SimulationData"
   ]
  },
  {
   "cell_type": "code",
   "execution_count": 117,
   "metadata": {},
   "outputs": [
    {
     "output_type": "execute_result",
     "data": {
      "text/plain": "<riversim.SimulationData at 0x7f9324cbcdb0>"
     },
     "metadata": {},
     "execution_count": 117
    }
   ],
   "source": [
    "riversim.SimulationData()"
   ]
  },
  {
   "cell_type": "markdown",
   "metadata": {},
   "source": [
    "### BackwardData"
   ]
  },
  {
   "cell_type": "code",
   "execution_count": 118,
   "metadata": {},
   "outputs": [
    {
     "output_type": "execute_result",
     "data": {
      "text/plain": "<riversim.BackwardData at 0x7f935046cbb0>"
     },
     "metadata": {},
     "execution_count": 118
    }
   ],
   "source": [
    "riversim.BackwardData()"
   ]
  },
  {
   "cell_type": "markdown",
   "metadata": {},
   "source": [
    "### t_GeometryDiffernceNew"
   ]
  },
  {
   "cell_type": "code",
   "execution_count": 119,
   "metadata": {},
   "outputs": [
    {
     "output_type": "execute_result",
     "data": {
      "text/plain": "<riversim.t_GeometryDiffernceNew at 0x7f93258f21f0>"
     },
     "metadata": {},
     "execution_count": 119
    }
   ],
   "source": [
    "riversim.t_GeometryDiffernceNew()"
   ]
  },
  {
   "cell_type": "markdown",
   "metadata": {},
   "source": [
    "### ProgramOptions"
   ]
  },
  {
   "cell_type": "code",
   "execution_count": 120,
   "metadata": {},
   "outputs": [
    {
     "output_type": "execute_result",
     "data": {
      "text/plain": "<riversim.ProgramOptions at 0x7f93258effb0>"
     },
     "metadata": {},
     "execution_count": 120
    }
   ],
   "source": [
    "riversim.ProgramOptions()"
   ]
  },
  {
   "cell_type": "markdown",
   "metadata": {},
   "source": [
    "### MeshParams"
   ]
  },
  {
   "cell_type": "code",
   "execution_count": 121,
   "metadata": {},
   "outputs": [
    {
     "output_type": "execute_result",
     "data": {
      "text/plain": "<riversim.MeshParams at 0x7f93258ea0f0>"
     },
     "metadata": {},
     "execution_count": 121
    }
   ],
   "source": [
    "riversim.MeshParams()"
   ]
  },
  {
   "cell_type": "markdown",
   "metadata": {},
   "source": [
    "### IntegrationParams"
   ]
  },
  {
   "cell_type": "code",
   "execution_count": 122,
   "metadata": {},
   "outputs": [
    {
     "output_type": "execute_result",
     "data": {
      "text/plain": "<riversim.IntegrationParams at 0x7f93258d2030>"
     },
     "metadata": {},
     "execution_count": 122
    }
   ],
   "source": [
    "riversim.IntegrationParams()"
   ]
  },
  {
   "cell_type": "markdown",
   "metadata": {},
   "source": [
    "### SolverParams"
   ]
  },
  {
   "cell_type": "code",
   "execution_count": 123,
   "metadata": {},
   "outputs": [
    {
     "output_type": "execute_result",
     "data": {
      "text/plain": "<riversim.SolverParams at 0x7f93258d2330>"
     },
     "metadata": {},
     "execution_count": 123
    }
   ],
   "source": [
    "riversim.SolverParams()"
   ]
  },
  {
   "cell_type": "markdown",
   "metadata": {},
   "source": [
    "### Model"
   ]
  },
  {
   "cell_type": "code",
   "execution_count": 124,
   "metadata": {},
   "outputs": [
    {
     "output_type": "execute_result",
     "data": {
      "text/plain": "<riversim.Model at 0x7f93259ab530>"
     },
     "metadata": {},
     "execution_count": 124
    }
   ],
   "source": [
    "riversim.Model()"
   ]
  },
  {
   "cell_type": "markdown",
   "metadata": {},
   "source": [
    "## Input/Output"
   ]
  },
  {
   "cell_type": "code",
   "execution_count": 126,
   "metadata": {
    "tags": []
   },
   "outputs": [
    {
     "output_type": "stream",
     "name": "stdout",
     "text": "RiverSim 2018\nNone\n2.8.7\nNone\n"
    }
   ],
   "source": [
    "print(riversim.programTitle())\n",
    "print(riversim.print_ascii_signature())\n",
    "print(riversim.version_string())\n",
    "print(riversim.print_version())"
   ]
  },
  {
   "cell_type": "code",
   "execution_count": 71,
   "metadata": {},
   "outputs": [
    {
     "output_type": "stream",
     "name": "stdout",
     "text": "\u001b[0m\u001b[34;42mCMakeFiles\u001b[0m/            \u001b[01;32mmeshgen\u001b[0m*       \u001b[01;32m'some text.json'\u001b[0m*\n \u001b[01;32mMakefile\u001b[0m*              \u001b[01;32mres.vtk\u001b[0m*        \u001b[01;32msome_text.json\u001b[0m*\n \u001b[01;32mcmake_install.cmake\u001b[0m*   \u001b[34;42mriver\u001b[0m/          \u001b[01;32mtest\u001b[0m*\n \u001b[34;42mexamples\u001b[0m/              \u001b[01;32mriversim\u001b[0m*       \u001b[01;32mtest.msh\u001b[0m*\n \u001b[01;32mlibapp.so\u001b[0m*             \u001b[01;32mriversim.so\u001b[0m*    \u001b[01;32mtest_boundary.msh\u001b[0m*\n \u001b[01;32mmain.ipynb\u001b[0m*            \u001b[01;32msimdata.json\u001b[0m*   \u001b[01;32mtest_quadrangular.msh\u001b[0m*\n \u001b[01;32mmain.py\u001b[0m*               \u001b[01;32msimdata.msh\u001b[0m*    \u001b[01;32mtest_triangular.msh\u001b[0m*\n"
    }
   ],
   "source": [
    "ls"
   ]
  },
  {
   "cell_type": "code",
   "execution_count": 130,
   "metadata": {
    "tags": []
   },
   "outputs": [
    {
     "output_type": "stream",
     "name": "stdout",
     "text": "some_text.json\n101.0\n"
    }
   ],
   "source": [
    "model = riversim.Model()\n",
    "model.ds = 101;\n",
    "model.initializeDirichlet()\n",
    "riversim.save(model, \"some_text\")\n",
    "model2 = riversim.Model()\n",
    "model2.prog_opt.input_file_name = \"some_text.json\"\n",
    "print(model2.prog_opt.input_file_name)\n",
    "riversim.open(model2)\n",
    "print(model2.ds)"
   ]
  },
  {
   "cell_type": "markdown",
   "metadata": {},
   "source": [
    "## Triangle\n",
    "maybe later"
   ]
  },
  {
   "cell_type": "markdown",
   "metadata": {},
   "source": [
    "## Boundary Generator"
   ]
  },
  {
   "cell_type": "code",
   "execution_count": 132,
   "metadata": {},
   "outputs": [
    {
     "output_type": "execute_result",
     "data": {
      "text/plain": "23"
     },
     "metadata": {},
     "execution_count": 132
    }
   ],
   "source": [
    "model = riversim.Model()\n",
    "model.initializeDirichlet()\n",
    "model.tree.growTestTree(1, 0.1, 3, 0)\n",
    "simple_boundary = riversim.simpleBoundaryGenerator(model)\n",
    "len(simple_boundary.vertices)"
   ]
  },
  {
   "cell_type": "markdown",
   "metadata": {},
   "source": [
    "## Tethex"
   ]
  },
  {
   "cell_type": "markdown",
   "metadata": {},
   "source": [
    "### `TethexPoint`"
   ]
  },
  {
   "cell_type": "code",
   "execution_count": 134,
   "metadata": {
    "tags": []
   },
   "outputs": [
    {
     "output_type": "stream",
     "name": "stdout",
     "text": "True\n"
    },
    {
     "output_type": "execute_result",
     "data": {
      "text/plain": "10.0"
     },
     "metadata": {},
     "execution_count": 134
    }
   ],
   "source": [
    "p = riversim.TethexPoint(1, 2, 3, 4)\n",
    "p_copy = riversim.TethexPoint(p)\n",
    "print(p == p_copy)\n",
    "p.setCoord(1, 10)\n",
    "p.getCoord(1)"
   ]
  },
  {
   "cell_type": "markdown",
   "metadata": {},
   "source": [
    "### vector of `TethexPoint`"
   ]
  },
  {
   "cell_type": "code",
   "execution_count": 135,
   "metadata": {},
   "outputs": [
    {
     "output_type": "execute_result",
     "data": {
      "text/plain": "<riversim.t_Vector_of_TethexPoint at 0x7f9325830630>"
     },
     "metadata": {},
     "execution_count": 135
    }
   ],
   "source": [
    "riversim.t_Vector_of_TethexPoint()"
   ]
  },
  {
   "cell_type": "markdown",
   "metadata": {},
   "source": [
    "### `tethex::Mesh`"
   ]
  },
  {
   "cell_type": "code",
   "execution_count": 136,
   "metadata": {},
   "outputs": [],
   "source": [
    "riversim.TethexMesh()\n",
    "\n",
    "model = riversim.Model()\n",
    "model.initializeDirichlet()\n",
    "simple_boundary = riversim.simpleBoundaryGenerator(model)\n",
    "\n",
    "mesh_boundary = riversim.TethexMesh(simple_boundary)"
   ]
  },
  {
   "cell_type": "markdown",
   "metadata": {},
   "source": [
    "## Triangle\n",
    "port of triangle mesh generation tool"
   ]
  },
  {
   "cell_type": "code",
   "execution_count": 137,
   "metadata": {},
   "outputs": [
    {
     "output_type": "execute_result",
     "data": {
      "text/plain": "<riversim.triangulateio at 0x7f93258f6970>"
     },
     "metadata": {},
     "execution_count": 137
    }
   ],
   "source": [
    "riversim.triangulateio()"
   ]
  },
  {
   "cell_type": "markdown",
   "metadata": {},
   "source": [
    "## Mesh"
   ]
  },
  {
   "cell_type": "markdown",
   "metadata": {},
   "source": [
    "### `e_triangle_algorithm`"
   ]
  },
  {
   "cell_type": "code",
   "execution_count": 139,
   "metadata": {},
   "outputs": [],
   "source": [
    "#riversim.e_triangle_algorithm.CONQUER\n",
    "#riversim.e_triangle_algorithm.FORTUNE\n",
    "#riversim.e_triangle_algorithm.ITERATOR"
   ]
  },
  {
   "cell_type": "markdown",
   "metadata": {},
   "source": [
    "### `Triangle`"
   ]
  },
  {
   "cell_type": "code",
   "execution_count": 142,
   "metadata": {},
   "outputs": [],
   "source": [
    "model = riversim.Model()\n",
    "model.initializeDirichlet()\n",
    "simple_boundary = riversim.simpleBoundaryGenerator(model)\n",
    "\n",
    "mesh_boundary = riversim.TethexMesh(simple_boundary)\n",
    "mesh_boundary.write(\"test_boundary.msh\")\n",
    "\n",
    "triangle = riversim.Triangle(model.mesh)\n",
    "triangle.generate(mesh_boundary)\n",
    "mesh_boundary.write(\"test_triangular.msh\")\n",
    "mesh_boundary.convert()\n",
    "mesh_boundary.write(\"test_quadrangular.msh\")"
   ]
  },
  {
   "cell_type": "markdown",
   "metadata": {},
   "source": [
    "## Solver"
   ]
  },
  {
   "cell_type": "code",
   "execution_count": 147,
   "metadata": {
    "tags": []
   },
   "outputs": [
    {
     "output_type": "stream",
     "name": "stdout",
     "text": "nan\nnan\nnan\nnans are becouse of very rare mesh\n"
    }
   ],
   "source": [
    "model = riversim.Model()\n",
    "model.initializeDirichlet()\n",
    "simple_boundary = riversim.simpleBoundaryGenerator(model)\n",
    "\n",
    "mesh_boundary = riversim.TethexMesh(simple_boundary)\n",
    "\n",
    "triangle = riversim.Triangle(model.mesh)\n",
    "triangle.generate(mesh_boundary)\n",
    "mesh_boundary.convert()\n",
    "mesh_boundary.write(\"test_quadrangular.msh\")\n",
    "\n",
    "solver = riversim.Solver(model)\n",
    "solver.openMesh(\"test_quadrangular.msh\")\n",
    "solver.run()\n",
    "solver.outputResults(\"res\")\n",
    "params = solver.integrate(model, riversim.Point(0.25, 0), 0)\n",
    "print(params[0])\n",
    "print(params[1])\n",
    "print(params[2])\n",
    "print('nans are becouse of very rare mesh')"
   ]
  },
  {
   "cell_type": "markdown",
   "metadata": {},
   "source": [
    "## Riversim"
   ]
  },
  {
   "cell_type": "code",
   "execution_count": 150,
   "metadata": {},
   "outputs": [],
   "source": [
    "model = riversim.Model()\n",
    "model.initializeDirichlet()\n",
    "model.prog_opt.number_of_steps = 1\n",
    "\n",
    "triangle = riversim.Triangle(model.mesh)\n",
    "\n",
    "solver = riversim.Solver(model)\n",
    "\n",
    "forward_river_simulation = riversim.RiverSimulation(model, triangle, solver)\n",
    "forward_river_simulation.linearSolver()"
   ]
  },
  {
   "cell_type": "markdown",
   "metadata": {},
   "source": [
    "## App"
   ]
  },
  {
   "cell_type": "code",
   "execution_count": 82,
   "metadata": {},
   "outputs": [],
   "source": [
    "#app = riversim.App()"
   ]
  }
 ],
 "metadata": {
  "language_info": {
   "codemirror_mode": {
    "name": "ipython",
    "version": 3
   },
   "file_extension": ".py",
   "mimetype": "text/x-python",
   "name": "python",
   "nbconvert_exporter": "python",
   "pygments_lexer": "ipython3",
   "version": "3.8.2-final"
  },
  "orig_nbformat": 2,
  "kernelspec": {
   "name": "Python 3.8.2 64-bit",
   "display_name": "Python 3.8.2 64-bit",
   "metadata": {
    "interpreter": {
     "hash": "31f2aee4e71d21fbe5cf8b01ff0e069b9275f58929596ceb00d14d90e3e16cd6"
    }
   }
  }
 },
 "nbformat": 4,
 "nbformat_minor": 2
}